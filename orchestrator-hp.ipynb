{
  "cells": [
    {
      "cell_type": "markdown",
      "source": [
        "#### Importando librerias"
      ],
      "metadata": {
        "nteract": {
          "transient": {
            "deleting": false
          }
        }
      }
    },
    {
      "cell_type": "code",
      "source": [
        "import sys\n",
        "print(sys.executable)\n",
        "print(sys.version)\n",
        "print(sys.version_info)"
      ],
      "outputs": [
        {
          "output_type": "stream",
          "name": "stdout",
          "text": "/anaconda/envs/azureml_py310_sdkv2/bin/python\n3.10.11 (main, May 16 2023, 00:28:57) [GCC 11.2.0]\nsys.version_info(major=3, minor=10, micro=11, releaselevel='final', serial=0)\n"
        }
      ],
      "execution_count": 2,
      "metadata": {
        "gather": {
          "logged": 1698625373765
        }
      }
    },
    {
      "cell_type": "code",
      "source": [
        "from azure.ai.ml import MLClient\n",
        "from azure.identity import DefaultAzureCredential\n",
        "from azure.ai.ml.entities import AmlCompute\n",
        "import os\n",
        "from azure.ai.ml.entities import Environment\n",
        "from azure.ai.ml import command, Input\n",
        "from azure.ai.ml.sweep import Choice, Uniform, MedianStoppingPolicy\n",
        "from azure.identity import DefaultAzureCredential\n",
        "from azure.ai.ml.constants import AssetTypes"
      ],
      "outputs": [],
      "execution_count": 3,
      "metadata": {
        "jupyter": {
          "source_hidden": false,
          "outputs_hidden": false
        },
        "nteract": {
          "transient": {
            "deleting": false
          }
        },
        "gather": {
          "logged": 1698625374359
        }
      }
    },
    {
      "cell_type": "markdown",
      "source": [
        "#### Iniciando sesión"
      ],
      "metadata": {
        "nteract": {
          "transient": {
            "deleting": false
          }
        }
      }
    },
    {
      "cell_type": "code",
      "source": [
        "credential = DefaultAzureCredential()\n",
        "ml_client = MLClient.from_config(credential=credential)"
      ],
      "outputs": [
        {
          "output_type": "stream",
          "name": "stderr",
          "text": "Found the config file in: /config.json\n"
        }
      ],
      "execution_count": 4,
      "metadata": {
        "jupyter": {
          "source_hidden": false,
          "outputs_hidden": false
        },
        "nteract": {
          "transient": {
            "deleting": false
          }
        },
        "gather": {
          "logged": 1698625374741
        }
      }
    },
    {
      "cell_type": "markdown",
      "source": [
        "#### Creación del cluster\n",
        "El cluster con el que trabajaremos sera el mismo del anterior Orquestador."
      ],
      "metadata": {
        "nteract": {
          "transient": {
            "deleting": false
          }
        }
      }
    },
    {
      "cell_type": "code",
      "source": [
        "from azure.ai.ml.entities import AmlCompute\n",
        "from azure.core.exceptions import ResourceNotFoundError\n",
        "\n",
        "compute_name = \"DS11-v2-cpu-cluster\"\n",
        "\n",
        "try:\n",
        "    _ = ml_client.compute.get(compute_name)\n",
        "    print(\"Found existing compute target.\")\n",
        "except ResourceNotFoundError:\n",
        "    print(\"Creating a new compute target...\")\n",
        "    compute_config = AmlCompute(\n",
        "        name=compute_name,\n",
        "        type=\"amlcompute\",\n",
        "        size=\"STANDARD_DS11_V2\",\n",
        "        idle_time_before_scale_down=120,\n",
        "        min_instances=0,\n",
        "        max_instances=5,\n",
        "    )\n",
        "    ml_client.begin_create_or_update(compute_config).result()"
      ],
      "outputs": [
        {
          "output_type": "stream",
          "name": "stdout",
          "text": "Found existing compute target.\n"
        }
      ],
      "execution_count": 5,
      "metadata": {
        "jupyter": {
          "source_hidden": false,
          "outputs_hidden": false
        },
        "nteract": {
          "transient": {
            "deleting": false
          }
        },
        "gather": {
          "logged": 1698625375305
        }
      }
    },
    {
      "cell_type": "markdown",
      "source": [
        "#### Definición del environment\n",
        "Para el environment usaremos ubuntu como sistema operativo, las dependencias estaran alojadas en un yaml en la direccion `./env/conda.yaml`. Este archivo fue obtenido del ejemplo de hiperparámetros del docente."
      ],
      "metadata": {
        "nteract": {
          "transient": {
            "deleting": false
          }
        }
      }
    },
    {
      "cell_type": "code",
      "source": [
        "env_name = 'sklearn-env'\n",
        "job_env = Environment(\n",
        "    name=env_name,\n",
        "    description=\"sklearn 0.24.2\",\n",
        "    conda_file='./env/conda.yaml',\n",
        "    image=\"mcr.microsoft.com/azureml/openmpi4.1.0-ubuntu20.04:latest\",\n",
        ")\n",
        "job_env = ml_client.environments.create_or_update(job_env)"
      ],
      "outputs": [],
      "execution_count": 6,
      "metadata": {
        "jupyter": {
          "source_hidden": false,
          "outputs_hidden": false
        },
        "nteract": {
          "transient": {
            "deleting": false
          }
        },
        "gather": {
          "logged": 1698625378507
        }
      }
    },
    {
      "cell_type": "markdown",
      "source": [
        "#### Subir el data set al data blob storage de Azure\n",
        "En el otro orquestador trabajabamos con un csv dentro de nuestro directorio, pero ahora debemos subirlo al data blob storage de Azure para acceder a el desde cualquier instancia."
      ],
      "metadata": {
        "nteract": {
          "transient": {
            "deleting": false
          }
        }
      }
    },
    {
      "cell_type": "code",
      "source": [
        "from azure.ai.ml.entities import Data\n",
        "from azure.ai.ml.constants import AssetTypes, InputOutputModes\n",
        "from azure.ai.ml import Input\n",
        "\n",
        "dataset_dir = './data'\n",
        "\n",
        "my_data = Data(\n",
        "    path=dataset_dir,\n",
        "    type=AssetTypes.URI_FOLDER,\n",
        "    description=\"Fraudulent transaction data set\",\n",
        "    name=\"creditcard_non_atypical\",\n",
        ")\n",
        "\n",
        "uri_folder_data_asset = ml_client.data.create_or_update(my_data)"
      ],
      "outputs": [],
      "execution_count": 13,
      "metadata": {
        "jupyter": {
          "source_hidden": false,
          "outputs_hidden": false
        },
        "nteract": {
          "transient": {
            "deleting": false
          }
        },
        "gather": {
          "logged": 1698625816406
        }
      }
    },
    {
      "cell_type": "code",
      "source": [
        "uri_folder_data_asset.path"
      ],
      "outputs": [
        {
          "output_type": "execute_result",
          "execution_count": 15,
          "data": {
            "text/plain": "'azureml://subscriptions/9d6f3686-6c64-4aea-8d5a-3cd7cb82619b/resourcegroups/ml-proyecto/workspaces/creditcard-ml/datastores/workspaceblobstore/paths/LocalUpload/9597b7c6a70d05cdc62ccdd532b8a614/data/'"
          },
          "metadata": {}
        }
      ],
      "execution_count": 15,
      "metadata": {
        "jupyter": {
          "source_hidden": false,
          "outputs_hidden": false
        },
        "nteract": {
          "transient": {
            "deleting": false
          }
        },
        "gather": {
          "logged": 1698625863476
        }
      }
    },
    {
      "cell_type": "markdown",
      "source": [
        "#### Definición del Job\n",
        "Ahora definimos el job argumentando el archivo .py que usaremos en cada instancia a demas de los argumentos necesarios para que el mismo pueda correr. Ademas, debemos añadir el link del archivo csv subido al data blob storage de Azure junto a los hiperparámetros definidos en `inputs`. Este ultimo es imporante ya que los mismo seran enviados a nuestro archivo .py usando `command` donde cada hiperparámetro sera ingresado como argumento a nuestro archivo."
      ],
      "metadata": {
        "nteract": {
          "transient": {
            "deleting": false
          }
        }
      }
    },
    {
      "cell_type": "code",
      "source": [
        "job = command(\n",
        "    code=\"./src\",\n",
        "    command=\"python train.py --dataset_path ${{inputs.dataset_path}} --min_samples_split ${{inputs.min_samples_split}} --n_neighbors ${{inputs.n_neighbors}} --algorithm ${{inputs.algorithm}} --p ${{inputs.p}} --weights ${{inputs.weights}}\",\n",
        "    environment=f\"{job_env.name}:{job_env.version}\",\n",
        "    experiment_name='cc-fraud-detection-exp-k-nearest--neighbors-hyp',\n",
        "    display_name=\"cc-fraud-detection-exp-k-nearest--neighbors-hyp\",\n",
        "    inputs={\n",
        "        \"dataset_path\": Input(\n",
        "            type=\"uri_file\",\n",
        "            path=\"azureml://subscriptions/9d6f3686-6c64-4aea-8d5a-3cd7cb82619b/resourcegroups/ml-proyecto/workspaces/creditcard-ml/datastores/workspaceblobstore/paths/LocalUpload/9597b7c6a70d05cdc62ccdd532b8a614/data/creditcard_non_atypical.csv\",\n",
        "        ),\n",
        "        \"min_samples_split\": 3,\n",
        "        \"n_neighbors\":50,\n",
        "        \"algorithm\":\"auto\",\n",
        "        \"p\":1,\n",
        "        \"weights\":\"uniform\"\n",
        "    },\n",
        "    compute=compute_name,\n",
        ")"
      ],
      "outputs": [],
      "execution_count": 28,
      "metadata": {
        "jupyter": {
          "source_hidden": false,
          "outputs_hidden": false
        },
        "nteract": {
          "transient": {
            "deleting": false
          }
        },
        "gather": {
          "logged": 1698628371717
        }
      }
    },
    {
      "cell_type": "code",
      "source": [
        "returned_job = ml_client.jobs.create_or_update(job)"
      ],
      "outputs": [
        {
          "output_type": "stream",
          "name": "stderr",
          "text": "\rUploading src (0.01 MBs):   0%|          | 0/5772 [00:00<?, ?it/s]\rUploading src (0.01 MBs): 100%|██████████| 5772/5772 [00:00<00:00, 87292.48it/s]\n\n\n"
        }
      ],
      "execution_count": 29,
      "metadata": {
        "jupyter": {
          "source_hidden": false,
          "outputs_hidden": false
        },
        "nteract": {
          "transient": {
            "deleting": false
          }
        },
        "gather": {
          "logged": 1698628374361
        }
      }
    },
    {
      "cell_type": "code",
      "source": [
        "ml_client.jobs.stream(returned_job.name)"
      ],
      "outputs": [
        {
          "output_type": "stream",
          "name": "stdout",
          "text": "RunId: quiet_dream_xpfs1fcxqg\nWeb View: https://ml.azure.com/runs/quiet_dream_xpfs1fcxqg?wsid=/subscriptions/9d6f3686-6c64-4aea-8d5a-3cd7cb82619b/resourcegroups/ml-proyecto/workspaces/creditcard-ml\n\nExecution Summary\n=================\nRunId: quiet_dream_xpfs1fcxqg\nWeb View: https://ml.azure.com/runs/quiet_dream_xpfs1fcxqg?wsid=/subscriptions/9d6f3686-6c64-4aea-8d5a-3cd7cb82619b/resourcegroups/ml-proyecto/workspaces/creditcard-ml\n\n"
        }
      ],
      "execution_count": 30,
      "metadata": {
        "jupyter": {
          "source_hidden": false,
          "outputs_hidden": false
        },
        "nteract": {
          "transient": {
            "deleting": false
          }
        },
        "gather": {
          "logged": 1698629909472
        }
      }
    },
    {
      "cell_type": "code",
      "source": [
        "job_for_sweep = job(\n",
        "    min_samples_split=Choice(values=[3,5,7,9]),\n",
        "    n_neighbors = Choice(values=[45,50,55,60]),\n",
        "    algorithm = Choice(values=['ball_tree','auto']),\n",
        "    p = Choice(values=[1,2]),\n",
        "    weights = Choice(values=['uniform','distance'])\n",
        ")\n",
        "\n",
        "sweep_job = job_for_sweep.sweep(\n",
        "    compute=compute_name,\n",
        "    sampling_algorithm=\"random\",\n",
        "    primary_metric=\"F1 Score\",\n",
        "    goal=\"Maximize\",\n",
        "    max_total_trials=12,\n",
        "    max_concurrent_trials=5,\n",
        ")\n",
        "\n",
        "returned_sweep_job = ml_client.create_or_update(sweep_job)\n",
        "ml_client.jobs.stream(returned_sweep_job.name)"
      ],
      "outputs": [
        {
          "output_type": "stream",
          "name": "stdout",
          "text": "RunId: mighty_turtle_4md175v1k9\nWeb View: https://ml.azure.com/runs/mighty_turtle_4md175v1k9?wsid=/subscriptions/9d6f3686-6c64-4aea-8d5a-3cd7cb82619b/resourcegroups/ml-proyecto/workspaces/creditcard-ml\n\nStreaming azureml-logs/hyperdrive.txt\n=====================================\n\n[2023-10-30T01:47:03.162145][GENERATOR][INFO]Trying to sample '5' jobs from the hyperparameter space\n[2023-10-30T01:47:03.7466941Z][SCHEDULER][INFO]Scheduling job, id='mighty_turtle_4md175v1k9_0' \n[2023-10-30T01:47:03.8497875Z][SCHEDULER][INFO]Scheduling job, id='mighty_turtle_4md175v1k9_1' \n[2023-10-30T01:47:03.9264586Z][SCHEDULER][INFO]Scheduling job, id='mighty_turtle_4md175v1k9_2' \n[2023-10-30T01:47:04.1602074Z][SCHEDULER][INFO]Scheduling job, id='mighty_turtle_4md175v1k9_4' \n[2023-10-30T01:47:04.0707722Z][SCHEDULER][INFO]Scheduling job, id='mighty_turtle_4md175v1k9_3' \n[2023-10-30T01:47:04.106026][GENERATOR][INFO]Successfully sampled '5' jobs, they will soon be submitted to the execution target.\n[2023-10-30T01:47:04.4471409Z][SCHEDULER][INFO]Successfully scheduled a job. Id='mighty_turtle_4md175v1k9_3' \n[2023-10-30T01:47:04.4344710Z][SCHEDULER][INFO]Successfully scheduled a job. Id='mighty_turtle_4md175v1k9_4' \n[2023-10-30T01:47:04.4338294Z][SCHEDULER][INFO]Successfully scheduled a job. Id='mighty_turtle_4md175v1k9_2' \n[2023-10-30T01:47:04.4654422Z][SCHEDULER][INFO]Successfully scheduled a job. Id='mighty_turtle_4md175v1k9_0' \n[2023-10-30T01:47:04.4899561Z][SCHEDULER][INFO]Successfully scheduled a job. Id='mighty_turtle_4md175v1k9_1' \n[2023-10-30T01:57:03.197668][GENERATOR][INFO]Trying to sample '2' jobs from the hyperparameter space\n[2023-10-30T01:57:03.4975503Z][SCHEDULER][INFO]Scheduling job, id='mighty_turtle_4md175v1k9_5' \n[2023-10-30T01:57:03.6047241Z][SCHEDULER][INFO]Scheduling job, id='mighty_turtle_4md175v1k9_6' \n[2023-10-30T01:57:03.552111][GENERATOR][INFO]Successfully sampled '2' jobs, they will soon be submitted to the execution target.\n[2023-10-30T01:57:03.9893948Z][SCHEDULER][INFO]Successfully scheduled a job. Id='mighty_turtle_4md175v1k9_6' \n[2023-10-30T01:57:04.0897092Z][SCHEDULER][INFO]Successfully scheduled a job. Id='mighty_turtle_4md175v1k9_5' \n[2023-10-30T02:00:33.215224][GENERATOR][INFO]Trying to sample '1' jobs from the hyperparameter space\n[2023-10-30T02:00:33.6139869Z][SCHEDULER][INFO]Scheduling job, id='mighty_turtle_4md175v1k9_7' \n[2023-10-30T02:00:33.578948][GENERATOR][INFO]Successfully sampled '1' jobs, they will soon be submitted to the execution target.\n[2023-10-30T02:00:33.9913460Z][SCHEDULER][INFO]Successfully scheduled a job. Id='mighty_turtle_4md175v1k9_7' \n[2023-10-30T02:03:33.228453][GENERATOR][INFO]Trying to sample '1' jobs from the hyperparameter space\n[2023-10-30T02:03:33.6921273Z][SCHEDULER][INFO]Scheduling job, id='mighty_turtle_4md175v1k9_8' \n[2023-10-30T02:03:33.602891][GENERATOR][INFO]Successfully sampled '1' jobs, they will soon be submitted to the execution target.\n[2023-10-30T02:03:34.2319048Z][SCHEDULER][INFO]Successfully scheduled a job. Id='mighty_turtle_4md175v1k9_8' \n[2023-10-30T02:06:33.178972][GENERATOR][INFO]Trying to sample '1' jobs from the hyperparameter space\n[2023-10-30T02:06:33.455122][GENERATOR][INFO]Successfully sampled '1' jobs, they will soon be submitted to the execution target.\n[2023-10-30T02:06:33.5336571Z][SCHEDULER][INFO]Scheduling job, id='mighty_turtle_4md175v1k9_9' \n[2023-10-30T02:06:33.8969823Z][SCHEDULER][INFO]Successfully scheduled a job. Id='mighty_turtle_4md175v1k9_9' \n[2023-10-30T02:14:03.181883][GENERATOR][INFO]Trying to sample '1' jobs from the hyperparameter space\n[2023-10-30T02:14:03.5251266Z][SCHEDULER][INFO]Scheduling job, id='mighty_turtle_4md175v1k9_10' \n[2023-10-30T02:14:03.464711][GENERATOR][INFO]Successfully sampled '1' jobs, they will soon be submitted to the execution target.\n[2023-10-30T02:14:04.0477343Z][SCHEDULER][INFO]Successfully scheduled a job. Id='mighty_turtle_4md175v1k9_10' \n[2023-10-30T02:14:33.238671][GENERATOR][INFO]Trying to sample '1' jobs from the hyperparameter space\n[2023-10-30T02:14:33.6660578Z][SCHEDULER][INFO]Scheduling job, id='mighty_turtle_4md175v1k9_11' \n[2023-10-30T02:14:33.605866][GENERATOR][INFO]Successfully sampled '1' jobs, they will soon be submitted to the execution target.\n[2023-10-30T02:14:33.9662288Z][SCHEDULER][INFO]Successfully scheduled a job. Id='mighty_turtle_4md175v1k9_11' \n[2023-10-30T02:15:03.261098][GENERATOR][INFO]Max number of jobs '12' reached for experiment.\n[2023-10-30T02:15:03.460986][GENERATOR][INFO]All jobs generated.\n"
        }
      ],
      "execution_count": 32,
      "metadata": {
        "jupyter": {
          "source_hidden": false,
          "outputs_hidden": false
        },
        "nteract": {
          "transient": {
            "deleting": false
          }
        },
        "gather": {
          "logged": 1698630034710
        }
      }
    }
  ],
  "metadata": {
    "kernelspec": {
      "name": "python310-sdkv2",
      "language": "python",
      "display_name": "Python 3.10 - SDK v2"
    },
    "language_info": {
      "name": "python",
      "version": "3.10.11",
      "mimetype": "text/x-python",
      "codemirror_mode": {
        "name": "ipython",
        "version": 3
      },
      "pygments_lexer": "ipython3",
      "nbconvert_exporter": "python",
      "file_extension": ".py"
    },
    "microsoft": {
      "ms_spell_check": {
        "ms_spell_check_language": "en"
      },
      "host": {
        "AzureML": {
          "notebookHasBeenCompleted": true
        }
      }
    },
    "kernel_info": {
      "name": "python310-sdkv2"
    },
    "nteract": {
      "version": "nteract-front-end@1.0.0"
    }
  },
  "nbformat": 4,
  "nbformat_minor": 2
}